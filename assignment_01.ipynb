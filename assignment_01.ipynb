{
 "cells": [
  {
   "cell_type": "code",
   "execution_count": 69,
   "metadata": {},
   "outputs": [],
   "source": [
    "import pandas\n",
    "import json\n",
    "import nltk\n",
    "from nltk import sent_tokenize\n",
    "from gensim.utils import simple_preprocess\n",
    "\n",
    "import gensim\n",
    "from gensim.models import Word2Vec, KeyedVectors\n",
    "import gensim.downloader as api"
   ]
  },
  {
   "cell_type": "code",
   "execution_count": null,
   "metadata": {},
   "outputs": [],
   "source": [
    "# Open the JSON file\n",
    "with open('data.json') as f:\n",
    "  # Load the JSON data into a Python dictionary\n",
    "  data = json.load(f)\n",
    "\n",
    "# Print the data\n",
    "print(data)"
   ]
  },
  {
   "cell_type": "code",
   "execution_count": 102,
   "metadata": {},
   "outputs": [
    {
     "name": "stdout",
     "output_type": "stream",
     "text": [
      "29\n"
     ]
    }
   ],
   "source": [
    "with open('data.json') as f:\n",
    "    meta_data = json.load(f)\n",
    "print(len(meta_data))"
   ]
  },
  {
   "cell_type": "code",
   "execution_count": 82,
   "metadata": {},
   "outputs": [
    {
     "data": {
      "text/plain": [
       "list"
      ]
     },
     "execution_count": 82,
     "metadata": {},
     "output_type": "execute_result"
    }
   ],
   "source": [
    "type(meta_data)"
   ]
  },
  {
   "cell_type": "code",
   "execution_count": 103,
   "metadata": {},
   "outputs": [
    {
     "data": {
      "text/plain": [
       "dict_keys(['grow_cycle_id', 'family_name', 'category', 'date', 's3_path', 'annotation_type'])"
      ]
     },
     "execution_count": 103,
     "metadata": {},
     "output_type": "execute_result"
    }
   ],
   "source": [
    "meta_data[0].keys()"
   ]
  },
  {
   "cell_type": "code",
   "execution_count": 104,
   "metadata": {},
   "outputs": [
    {
     "name": "stdout",
     "output_type": "stream",
     "text": [
      "[51, 52, 53, 54, 55, 57, 61, 93, 95, 96, 115, 116, 119, 121, 144, 146, 148, 149, 151, 216, 218, 219, 220, 224, 249, 250, 251, 252, 253]\n",
      "['Basil', 'Basil', 'Lettuce', 'Basil', 'Lettuce', 'Lettuce', 'Lettuce', 'basil', 'basil', 'Lettuce', 'Basil', 'Lettuce', 'basil', 'basil', 'Cucumber', 'Cucumber', 'Cucumber', 'Basil', 'Basil', 'strawberry', 'Lettuce', 'Arugula', 'Arugula', 'Lettuce', 'Basil', 'Arugula', 'Pac Chai', 'kale', 'Basil']\n",
      "['zinc deficient-basil', 'full nutrient-basil (mrs-burn-lemon)', 'full nutrient-green butter', 'zinc deficient + treatment basil', 'Zinc deficient + treatment-green butter', 'iron deficient-green butter', 'Demo Scan', 'iron deficient basil', 'iron deficient + treatment basil', 'iron deficient + treatment green butter', 'Nufar Full Nutrient Basil', 'full nutrient-green butter', 'Iron Deficient Basil', 'Iron Deficient + treatment basil', 'Zinc Deficient', 'Full Nutrient Cucumber', 'Zinc Deficient', 'Nufar Iron Deficient basil', 'Nufar Iron Deficient basil', 'strawberry 1', 'pac choi 1', 'wasabi arugula 1', 'astro arugula 1', 'monte carlo 1', 'EnStim Basil', 'EnStim Arugula', 'EnStim Pac Chai', 'EnStim Kale', 'EnStim + Zerotol Basil']\n",
      "[['annotated-data/moonshot/rgb/70/box/basil/mrs-burns-lemon/disease/zinc/deficiency/', 'annotated-data/moonshot/rgb/70/box/basil/mrs-burns-lemon/disease/zinc/leaf/', 'annotated-data/moonshot/rgb/70/box/basil/mrs-burns-lemon/disease/zinc/plant/'], ['annotated-data/moonshot/rgb/70/box/basil/mrs-burns-lemon/plant/', 'annotated-data/moonshot/rgb/70/box/basil/mrs-burns-lemon/leaf/'], ['annotated-data/moonshot/rgb/70/box/lettuce/butter-head-green/plant/', 'annotated-data/moonshot/rgb/70/box/lettuce/butter-head-green/leaf/'], ['annotated-data/moonshot/rgb/70/box/basil/mrs-burns-lemon/disease/zinc/deficiency/', 'annotated-data/moonshot/rgb/70/box/basil/mrs-burns-lemon/disease/zinc/leaf/', 'annotated-data/moonshot/rgb/70/box/basil/mrs-burns-lemon/disease/zinc/plant/'], ['annotated-data/moonshot/rgb/70/box/lettuce/butter-head-green/disease/zinc/plant/', 'annotated-data/moonshot/rgb/70/box/lettuce/butter-head-green/disease/zinc/leaf/'], ['annotated-data/moonshot/rgb/70/box/lettuce/butter-head-green/disease/iron/plant/', 'annotated-data/moonshot/rgb/70/box/lettuce/butter-head-green/disease/iron/leaf/'], ['annotated-data/moonshot/rgb/70/box/lettuce/butter-head-green/plant/', 'annotated-data/moonshot/rgb/70/box/lettuce/butter-head-green/leaf/'], ['annotated-data/moonshot/rgb/70/box/basil/mrs-burns-lemon/disease/iron/plant/', 'annotated-data/moonshot/rgb/70/box/basil/mrs-burns-lemon/disease/iron/leaf/'], ['annotated-data/moonshot/rgb/70/box/basil/mrs-burns-lemon/disease/iron/plant/', 'annotated-data/moonshot/rgb/70/box/basil/mrs-burns-lemon/disease/iron/leaf/'], ['annotated-data/moonshot/rgb/70/box/lettuce/butter-head-green/disease/iron/deficiency/'], ['annotated-data/moonshot/rgb/70/box/basil/nufar/plant/', 'annotated-data/moonshot/rgb/70/box/basil/nufar/leaf/'], ['annotated-data/moonshot/rgb/70/box/lettuce/butter-head-green/plant/', 'annotated-data/moonshot/rgb/70/box/lettuce/butter-head-green/leaf/'], ['annotated-data/moonshot/rgb/70/box/basil/mrs-burns-lemon/disease/iron/plant/', 'annotated-data/moonshot/rgb/70/box/basil/mrs-burns-lemon/disease/iron/leaf/'], ['annotated-data/moonshot/rgb/70/box/basil/mrs-burns-lemon/disease/iron/plant/', 'annotated-data/moonshot/rgb/70/box/basil/mrs-burns-lemon/disease/iron/leaf/'], ['annotated-data/moonshot/rgb/54/cucumber/disease/zinc/plant/', 'annotated-data/moonshot/rgb/54/cucumber/disease/zinc/leaf/'], ['annotated-data/moonshot/rgb/54/cucumber/plant/', 'annotated-data/moonshot/rgb/54/cucumber/leaf/'], ['annotated-data/moonshot/rgb/54/cucumber/disease/zinc/plant/', 'annotated-data/moonshot/rgb/54/cucumber/disease/zinc/leaf/'], ['annotated-data/moonshot/rgb/70/box/basil/nufar/disease/iron/deficiency/', 'annotated-data/moonshot/rgb/70/box/basil/nufar/disease/iron/plant/', 'annotated-data/moonshot/rgb/70/box/basil/nufar/disease/iron/leaf/'], ['annotated-data/moonshot/rgb/70/box/basil/nufar/disease/iron/deficiency/', 'annotated-data/moonshot/rgb/70/box/basil/nufar/disease/iron/plant/', 'annotated-data/moonshot/rgb/70/box/basil/nufar/disease/iron/leaf/'], ['annotated-data/moonshot/rgb/100/box/strawberry/plant/', 'annotated-data/moonshot/rgb/100/box/strawberry/leaf/'], ['annotated-data/moonshot/rgb/100/box/lettuce/pac-choi/plant/', 'annotated-data/moonshot/rgb/100/box/lettuce/pac-choi/leaf/'], ['annotated-data/moonshot/rgb/100/box/arugula/wasabi/plant/', 'annotated-data/moonshot/rgb/100/box/arugula/wasabi/leaf/'], ['annotated-data/moonshot/rgb/100/box/arugula/astro/plant/', 'annotated-data/moonshot/rgb/100/box/arugula/astro/plant/'], ['annotated-data/moonshot/rgb/100/box/lettuce/monte-carlo/plant/', 'annotated-data/moonshot/rgb/100/box/lettuce/monte-carlo/leaf/'], ['annotated-data/moonshot/rgb/100/box/basil/general/pathogen/enstim/plant/', 'annotated-data/moonshot/rgb/100/box/basil/general/pathogen/enstim/leaf/'], ['annotated-data/moonshot/rgb/100/box/arugula/general/pathogen/enstim/plant/', 'annotated-data/moonshot/rgb/100/box/arugula/general/pathogen/enstim/leaf/'], ['annotated-data/moonshot/rgb/100/box/lettuce/pac-choi/general/pathogen/enstim/plant/', 'annotated-data/moonshot/rgb/100/box/lettuce/pac-choi/general/pathogen/enstim/leaf/'], ['annotated-data/moonshot/rgb/100/box/lettuce/kale/general/plant/', 'annotated-data/moonshot/rgb/100/box/lettuce/kale/general/leaf/'], ['annotated-data/moonshot/rgb/100/box/basil/general/pathogen/enstim/plant/', 'annotated-data/moonshot/rgb/100/box/basil/general/pathogen/enstim/leaf/']]\n"
     ]
    }
   ],
   "source": [
    "grow_cycle_id=[]\n",
    "family_name=[]\n",
    "category=[]\n",
    "annotation_type=[]\n",
    "for i in meta_data:\n",
    "    grow_cycle_id.append(i['grow_cycle_id'])\n",
    "    family_name.append(i['family_name'])\n",
    "    category.append(i['category'])\n",
    "    annotation_type.append(i['annotation_type'])\n",
    "print(grow_cycle_id)\n",
    "print(family_name)\n",
    "print(category)\n",
    "print(annotation_type)"
   ]
  },
  {
   "cell_type": "code",
   "execution_count": 49,
   "metadata": {},
   "outputs": [
    {
     "data": {
      "text/plain": [
       "'Basil'"
      ]
     },
     "execution_count": 49,
     "metadata": {},
     "output_type": "execute_result"
    }
   ],
   "source": [
    "meta_data[0]['grow_cycle_id']\n",
    "meta_data[0]['family_name']"
   ]
  },
  {
   "cell_type": "code",
   "execution_count": 105,
   "metadata": {},
   "outputs": [],
   "source": [
    "words=[]\n",
    "for sent in family_name:\n",
    "    sent_token = sent_tokenize(sent)\n",
    "    for sent in sent_token:\n",
    "        words.append(simple_preprocess(sent))"
   ]
  },
  {
   "cell_type": "code",
   "execution_count": 106,
   "metadata": {},
   "outputs": [
    {
     "data": {
      "text/plain": [
       "[['basil'],\n",
       " ['basil'],\n",
       " ['lettuce'],\n",
       " ['basil'],\n",
       " ['lettuce'],\n",
       " ['lettuce'],\n",
       " ['lettuce'],\n",
       " ['basil'],\n",
       " ['basil'],\n",
       " ['lettuce'],\n",
       " ['basil'],\n",
       " ['lettuce'],\n",
       " ['basil'],\n",
       " ['basil'],\n",
       " ['cucumber'],\n",
       " ['cucumber'],\n",
       " ['cucumber'],\n",
       " ['basil'],\n",
       " ['basil'],\n",
       " ['strawberry'],\n",
       " ['lettuce'],\n",
       " ['arugula'],\n",
       " ['arugula'],\n",
       " ['lettuce'],\n",
       " ['basil'],\n",
       " ['arugula'],\n",
       " ['pac', 'chai'],\n",
       " ['kale'],\n",
       " ['basil']]"
      ]
     },
     "execution_count": 106,
     "metadata": {},
     "output_type": "execute_result"
    }
   ],
   "source": [
    "words"
   ]
  },
  {
   "cell_type": "code",
   "execution_count": null,
   "metadata": {},
   "outputs": [],
   "source": []
  }
 ],
 "metadata": {
  "kernelspec": {
   "display_name": "Python 3",
   "language": "python",
   "name": "python3"
  },
  "language_info": {
   "codemirror_mode": {
    "name": "ipython",
    "version": 3
   },
   "file_extension": ".py",
   "mimetype": "text/x-python",
   "name": "python",
   "nbconvert_exporter": "python",
   "pygments_lexer": "ipython3",
   "version": "3.10.15"
  }
 },
 "nbformat": 4,
 "nbformat_minor": 2
}
