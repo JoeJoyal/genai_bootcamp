{
 "cells": [
  {
   "cell_type": "code",
   "execution_count": 1,
   "metadata": {},
   "outputs": [],
   "source": [
    "import json\n",
    "import nltk\n",
    "import gensim\n",
    "import pandas\n",
    "import string\n",
    "import matplotlib.pyplot as plt  # Visualization library for plotting\n",
    "import gensim.downloader as api\n",
    "\n",
    "from nltk import sent_tokenize\n",
    "from gensim.utils import simple_preprocess\n",
    "from gensim.models import Word2Vec, KeyedVectors\n",
    "from sklearn.decomposition import PCA  # PCA for dimensionality reduction\n"
   ]
  },
  {
   "cell_type": "code",
   "execution_count": null,
   "metadata": {},
   "outputs": [],
   "source": [
    "nltk.download('all')"
   ]
  },
  {
   "cell_type": "markdown",
   "metadata": {},
   "source": [
    "#### <font color=\"green\">Load the Json file </font>"
   ]
  },
  {
   "cell_type": "code",
   "execution_count": 31,
   "metadata": {},
   "outputs": [
    {
     "data": {
      "text/plain": [
       "list"
      ]
     },
     "execution_count": 31,
     "metadata": {},
     "output_type": "execute_result"
    }
   ],
   "source": [
    "with open('./data/Indoor_farming.json') as f:\n",
    "    meta_data = json.load(f)\n",
    "type(meta_data)"
   ]
  },
  {
   "cell_type": "code",
   "execution_count": 4,
   "metadata": {},
   "outputs": [
    {
     "data": {
      "text/plain": [
       "dict_keys(['grow_cycle_id', 'family_name', 'category', 'date', 's3_path', 'annotation_type'])"
      ]
     },
     "execution_count": 4,
     "metadata": {},
     "output_type": "execute_result"
    }
   ],
   "source": [
    "meta_data[0].keys()"
   ]
  },
  {
   "cell_type": "code",
   "execution_count": 5,
   "metadata": {},
   "outputs": [
    {
     "name": "stdout",
     "output_type": "stream",
     "text": [
      "grow_cycle_id: [51, 52, 53, 54, 55, 57, 61, 93, 95, 96, 115, 116, 119, 121, 144, 146, 148, 149, 151, 216, 218, 219, 220, 224, 249, 250, 251, 252, 253, 255, 256, 875, 876, 882, 883, 899, 900, 911, 912, 929, 931, '']\n",
      "family_name: ['Basil', 'Basil', 'Lettuce', 'Basil', 'Lettuce', 'Lettuce', 'Lettuce', 'basil', 'basil', 'Lettuce', 'Basil', 'Lettuce', 'basil', 'basil', 'Cucumber', 'Cucumber', 'Cucumber', 'Basil', 'Basil', 'strawberry', 'Lettuce', 'Arugula', 'Arugula', 'Lettuce', 'Basil', 'Arugula', 'Pac Chai', 'kale', 'Basil', 'Pac choi', 'kale', 'Lettuce', 'Lettuce', 'Lettuce', 'Basil', 'Arugula', 'Basil', 'Lettuce', 'Lettuce', 'Basil', 'Lettuce', '']\n",
      "category: ['zinc deficient-basil', 'full nutrient-basil (mrs-burn-lemon)', 'full nutrient-green butter', 'zinc deficient + treatment basil', 'Zinc deficient + treatment-green butter', 'iron deficient-green butter', 'Demo Scan', 'iron deficient basil', 'iron deficient + treatment basil', 'iron deficient + treatment green butter', 'Nufar Full Nutrient Basil', 'full nutrient-green butter', 'Iron Deficient Basil', 'Iron Deficient + treatment basil', 'Zinc Deficient', 'Full Nutrient Cucumber', 'Zinc Deficient', 'Nufar Iron Deficient basil', 'Nufar Iron Deficient basil', 'strawberry 1', 'pac choi 1', 'wasabi arugula 1', 'astro arugula 1', 'monte carlo 1', 'EnStim Basil', 'EnStim Arugula', 'EnStim Pac Chai', 'EnStim Kale', 'EnStim + Zerotol Basil', 'EnStim + Zerotol', 'EnStim + Zerotol', 'green butter', 'monte carlo', 'Romaine', 'mrs-burn-lemon', 'Wasabi', 'mrs-burn-lemon', 'Green Butter', 'Romaine', 'mrs burn lemon', 'Romaine', '']\n",
      "annotation_type: [['annotated-data/moonshot/rgb/70/box/basil/mrs-burns-lemon/disease/zinc/deficiency/', 'annotated-data/moonshot/rgb/70/box/basil/mrs-burns-lemon/disease/zinc/leaf/', 'annotated-data/moonshot/rgb/70/box/basil/mrs-burns-lemon/disease/zinc/plant/'], ['annotated-data/moonshot/rgb/70/box/basil/mrs-burns-lemon/plant/', 'annotated-data/moonshot/rgb/70/box/basil/mrs-burns-lemon/leaf/'], ['annotated-data/moonshot/rgb/70/box/lettuce/butter-head-green/plant/', 'annotated-data/moonshot/rgb/70/box/lettuce/butter-head-green/leaf/'], ['annotated-data/moonshot/rgb/70/box/basil/mrs-burns-lemon/disease/zinc/deficiency/', 'annotated-data/moonshot/rgb/70/box/basil/mrs-burns-lemon/disease/zinc/leaf/', 'annotated-data/moonshot/rgb/70/box/basil/mrs-burns-lemon/disease/zinc/plant/'], ['annotated-data/moonshot/rgb/70/box/lettuce/butter-head-green/disease/zinc/plant/', 'annotated-data/moonshot/rgb/70/box/lettuce/butter-head-green/disease/zinc/leaf/'], ['annotated-data/moonshot/rgb/70/box/lettuce/butter-head-green/disease/iron/plant/', 'annotated-data/moonshot/rgb/70/box/lettuce/butter-head-green/disease/iron/leaf/'], ['annotated-data/moonshot/rgb/70/box/lettuce/butter-head-green/plant/', 'annotated-data/moonshot/rgb/70/box/lettuce/butter-head-green/leaf/'], ['annotated-data/moonshot/rgb/70/box/basil/mrs-burns-lemon/disease/iron/plant/', 'annotated-data/moonshot/rgb/70/box/basil/mrs-burns-lemon/disease/iron/leaf/'], ['annotated-data/moonshot/rgb/70/box/basil/mrs-burns-lemon/disease/iron/plant/', 'annotated-data/moonshot/rgb/70/box/basil/mrs-burns-lemon/disease/iron/leaf/'], ['annotated-data/moonshot/rgb/70/box/lettuce/butter-head-green/disease/iron/deficiency/'], ['annotated-data/moonshot/rgb/70/box/basil/nufar/plant/', 'annotated-data/moonshot/rgb/70/box/basil/nufar/leaf/'], ['annotated-data/moonshot/rgb/70/box/lettuce/butter-head-green/plant/', 'annotated-data/moonshot/rgb/70/box/lettuce/butter-head-green/leaf/'], ['annotated-data/moonshot/rgb/70/box/basil/mrs-burns-lemon/disease/iron/plant/', 'annotated-data/moonshot/rgb/70/box/basil/mrs-burns-lemon/disease/iron/leaf/'], ['annotated-data/moonshot/rgb/70/box/basil/mrs-burns-lemon/disease/iron/plant/', 'annotated-data/moonshot/rgb/70/box/basil/mrs-burns-lemon/disease/iron/leaf/'], ['annotated-data/moonshot/rgb/54/cucumber/disease/zinc/plant/', 'annotated-data/moonshot/rgb/54/cucumber/disease/zinc/leaf/'], ['annotated-data/moonshot/rgb/54/cucumber/plant/', 'annotated-data/moonshot/rgb/54/cucumber/leaf/'], ['annotated-data/moonshot/rgb/54/cucumber/disease/zinc/plant/', 'annotated-data/moonshot/rgb/54/cucumber/disease/zinc/leaf/'], ['annotated-data/moonshot/rgb/70/box/basil/nufar/disease/iron/deficiency/', 'annotated-data/moonshot/rgb/70/box/basil/nufar/disease/iron/plant/', 'annotated-data/moonshot/rgb/70/box/basil/nufar/disease/iron/leaf/'], ['annotated-data/moonshot/rgb/70/box/basil/nufar/disease/iron/deficiency/', 'annotated-data/moonshot/rgb/70/box/basil/nufar/disease/iron/plant/', 'annotated-data/moonshot/rgb/70/box/basil/nufar/disease/iron/leaf/'], ['annotated-data/moonshot/rgb/100/box/strawberry/plant/', 'annotated-data/moonshot/rgb/100/box/strawberry/leaf/'], ['annotated-data/moonshot/rgb/100/box/lettuce/pac-choi/plant/', 'annotated-data/moonshot/rgb/100/box/lettuce/pac-choi/leaf/'], ['annotated-data/moonshot/rgb/100/box/arugula/wasabi/plant/', 'annotated-data/moonshot/rgb/100/box/arugula/wasabi/leaf/'], ['annotated-data/moonshot/rgb/100/box/arugula/astro/plant/', 'annotated-data/moonshot/rgb/100/box/arugula/astro/plant/'], ['annotated-data/moonshot/rgb/100/box/lettuce/monte-carlo/plant/', 'annotated-data/moonshot/rgb/100/box/lettuce/monte-carlo/leaf/'], ['annotated-data/moonshot/rgb/100/box/basil/general/pathogen/enstim/plant/', 'annotated-data/moonshot/rgb/100/box/basil/general/pathogen/enstim/leaf/'], ['annotated-data/moonshot/rgb/100/box/arugula/general/pathogen/enstim/plant/', 'annotated-data/moonshot/rgb/100/box/arugula/general/pathogen/enstim/leaf/'], ['annotated-data/moonshot/rgb/100/box/lettuce/pac-choi/general/pathogen/enstim/plant/', 'annotated-data/moonshot/rgb/100/box/lettuce/pac-choi/general/pathogen/enstim/leaf/'], ['annotated-data/moonshot/rgb/100/box/lettuce/kale/general/plant/', 'annotated-data/moonshot/rgb/100/box/lettuce/kale/general/leaf/'], ['annotated-data/moonshot/rgb/100/box/basil/general/pathogen/enstim/plant/', 'annotated-data/moonshot/rgb/100/box/basil/general/pathogen/enstim/leaf/'], [], [], ['ageye-ai-annotations/annotated-data/moonshot/rgb/90/lettuce/butter-head-green/plant/', 'ageye-ai-annotations/annotated-data/moonshot/rgb/90/lettuce/butter-head-green/plant/'], [], [], ['ageye-ai-annotations/annotated-data/moonshot/rgb/90/basil/mrs-burn-lemon/disease/plant/', 'ageye-ai-annotations/annotated-data/moonshot/rgb/90/basil/mrs-burn-lemon/disease/leaf/', 'ageye-ai-annotations/annotated-data/moonshot/rgb/90/basil/mrs-burn-lemon/disease/yellowing/'], ['ageye-ai-annotations/annotated-data/moonshot/rgb/90/arugula/wasabi/plant/', 'ageye-ai-annotations/annotated-data/moonshot/rgb/90/arugula/wasabi/leaf/', 'ageye-ai-annotations/annotated-data/moonshot/rgb/90/arugula/wasabi/flower-and-bud/'], ['ageye-ai-annotations/annotated-data/moonshot/rgb/90/basil/mrs-burn-lemon/disease/plant/', 'ageye-ai-annotations/annotated-data/moonshot/rgb/90/basil/mrs-burn-lemon/disease/leaf/', 'ageye-ai-annotations/annotated-data/moonshot/rgb/90/basil/mrs-burn-lemon/disease/yellowing/'], [], [], [], [], []]\n"
     ]
    }
   ],
   "source": [
    "grow_cycle_id=[]\n",
    "family_name=[]\n",
    "category=[]\n",
    "annotation_type=[]\n",
    "for i in meta_data:\n",
    "    grow_cycle_id.append(i['grow_cycle_id'])\n",
    "    family_name.append(i['family_name'])\n",
    "    category.append(i['category'])\n",
    "    annotation_type.append(i['annotation_type'])\n",
    "print(\"grow_cycle_id:\", grow_cycle_id)\n",
    "print(\"family_name:\", family_name)\n",
    "print(\"category:\", category)\n",
    "print(\"annotation_type:\", annotation_type)"
   ]
  },
  {
   "cell_type": "markdown",
   "metadata": {},
   "source": [
    "#### <font color=\"green\"> Text Preprocesing </font>"
   ]
  },
  {
   "cell_type": "code",
   "execution_count": 6,
   "metadata": {},
   "outputs": [],
   "source": [
    "text_preprocessing_category=[''.join(remove_pun for remove_pun in cat if remove_pun not in string.punctuation) for cat in category]"
   ]
  },
  {
   "cell_type": "code",
   "execution_count": 7,
   "metadata": {},
   "outputs": [
    {
     "name": "stdout",
     "output_type": "stream",
     "text": [
      "['zinc deficientbasil', 'full nutrientbasil mrsburnlemon', 'full nutrientgreen butter', 'zinc deficient  treatment basil', 'Zinc deficient  treatmentgreen butter', 'iron deficientgreen butter', 'Demo Scan', 'iron deficient basil', 'iron deficient  treatment basil', 'iron deficient  treatment green butter', 'Nufar Full Nutrient Basil', 'full nutrientgreen butter', 'Iron Deficient Basil', 'Iron Deficient  treatment basil', 'Zinc Deficient', 'Full Nutrient Cucumber', 'Zinc Deficient', 'Nufar Iron Deficient basil', 'Nufar Iron Deficient basil', 'strawberry 1', 'pac choi 1', 'wasabi arugula 1', 'astro arugula 1', 'monte carlo 1', 'EnStim Basil', 'EnStim Arugula', 'EnStim Pac Chai', 'EnStim Kale', 'EnStim  Zerotol Basil', 'EnStim  Zerotol', 'EnStim  Zerotol', 'green butter', 'monte carlo', 'Romaine', 'mrsburnlemon', 'Wasabi', 'mrsburnlemon', 'Green Butter', 'Romaine', 'mrs burn lemon', 'Romaine', '']\n"
     ]
    }
   ],
   "source": [
    "print(text_preprocessing_category)"
   ]
  },
  {
   "cell_type": "markdown",
   "metadata": {},
   "source": [
    "#### <font color=\"green\"> Convert into the sentence to word </font>"
   ]
  },
  {
   "cell_type": "code",
   "execution_count": 8,
   "metadata": {},
   "outputs": [],
   "source": [
    "words=[]\n",
    "for text in text_preprocessing_category:\n",
    "    sent_token = sent_tokenize(text)\n",
    "    for sent in sent_token:\n",
    "        words.append(simple_preprocess(sent))"
   ]
  },
  {
   "cell_type": "code",
   "execution_count": 9,
   "metadata": {},
   "outputs": [
    {
     "data": {
      "text/plain": [
       "[['zinc', 'deficientbasil'],\n",
       " ['full', 'nutrientbasil', 'mrsburnlemon'],\n",
       " ['full', 'nutrientgreen', 'butter'],\n",
       " ['zinc', 'deficient', 'treatment', 'basil'],\n",
       " ['zinc', 'deficient', 'treatmentgreen', 'butter'],\n",
       " ['iron', 'deficientgreen', 'butter'],\n",
       " ['demo', 'scan'],\n",
       " ['iron', 'deficient', 'basil'],\n",
       " ['iron', 'deficient', 'treatment', 'basil'],\n",
       " ['iron', 'deficient', 'treatment', 'green', 'butter'],\n",
       " ['nufar', 'full', 'nutrient', 'basil'],\n",
       " ['full', 'nutrientgreen', 'butter'],\n",
       " ['iron', 'deficient', 'basil'],\n",
       " ['iron', 'deficient', 'treatment', 'basil'],\n",
       " ['zinc', 'deficient'],\n",
       " ['full', 'nutrient', 'cucumber'],\n",
       " ['zinc', 'deficient'],\n",
       " ['nufar', 'iron', 'deficient', 'basil'],\n",
       " ['nufar', 'iron', 'deficient', 'basil'],\n",
       " ['strawberry'],\n",
       " ['pac', 'choi'],\n",
       " ['wasabi', 'arugula'],\n",
       " ['astro', 'arugula'],\n",
       " ['monte', 'carlo'],\n",
       " ['enstim', 'basil'],\n",
       " ['enstim', 'arugula'],\n",
       " ['enstim', 'pac', 'chai'],\n",
       " ['enstim', 'kale'],\n",
       " ['enstim', 'zerotol', 'basil'],\n",
       " ['enstim', 'zerotol'],\n",
       " ['enstim', 'zerotol'],\n",
       " ['green', 'butter'],\n",
       " ['monte', 'carlo'],\n",
       " ['romaine'],\n",
       " ['mrsburnlemon'],\n",
       " ['wasabi'],\n",
       " ['mrsburnlemon'],\n",
       " ['green', 'butter'],\n",
       " ['romaine'],\n",
       " ['mrs', 'burn', 'lemon'],\n",
       " ['romaine']]"
      ]
     },
     "execution_count": 9,
     "metadata": {},
     "output_type": "execute_result"
    }
   ],
   "source": [
    "words"
   ]
  },
  {
   "cell_type": "code",
   "execution_count": 10,
   "metadata": {},
   "outputs": [
    {
     "name": "stdout",
     "output_type": "stream",
     "text": [
      "Number of category: 41\n"
     ]
    }
   ],
   "source": [
    "corpus = [word for word in words]\n",
    "\n",
    "print(f\"Number of category: {len(corpus)}\")"
   ]
  },
  {
   "cell_type": "markdown",
   "metadata": {},
   "source": [
    "#### <font color=\"green\"> Train a Custom Word2Vec Model </font>"
   ]
  },
  {
   "cell_type": "code",
   "execution_count": 12,
   "metadata": {},
   "outputs": [],
   "source": [
    "model = Word2Vec(sentences=corpus, vector_size=100, window=5, min_count=2, workers=4, sg=0)"
   ]
  },
  {
   "cell_type": "code",
   "execution_count": 158,
   "metadata": {},
   "outputs": [],
   "source": [
    "model.save('./word2vec_indoor_farming.model')"
   ]
  },
  {
   "cell_type": "code",
   "execution_count": 14,
   "metadata": {},
   "outputs": [],
   "source": [
    "model=Word2Vec.load(r'D:\\active-learning\\GENERATIVEAI\\genai_bootcamp\\word2vec_indoor_farming.model')"
   ]
  },
  {
   "cell_type": "code",
   "execution_count": null,
   "metadata": {},
   "outputs": [],
   "source": [
    "model.load('D:\\active-learning\\GENERATIVEAI\\genai_bootcamp\\word2vec_indoor_farming.model')"
   ]
  },
  {
   "cell_type": "code",
   "execution_count": 15,
   "metadata": {},
   "outputs": [],
   "source": [
    "word_vectors = model.wv # Extract Word Vectors and Apply PCA for Dimensionality Reduction"
   ]
  },
  {
   "cell_type": "markdown",
   "metadata": {},
   "source": [
    "#### <font color=\"green\"> Get the list of words and their respective vectors </font>"
   ]
  },
  {
   "cell_type": "code",
   "execution_count": 16,
   "metadata": {},
   "outputs": [
    {
     "name": "stdout",
     "output_type": "stream",
     "text": [
      "Vocabulary size: 20\n"
     ]
    }
   ],
   "source": [
    "words = list(word_vectors.index_to_key)  # List of words in the vocabulary\n",
    "vectors = word_vectors[words]  # Corresponding vectors for each word\n",
    "\n",
    "print(f\"Vocabulary size: {len(words)}\")  # Prints the size of the vocabulary"
   ]
  },
  {
   "cell_type": "code",
   "execution_count": 17,
   "metadata": {},
   "outputs": [
    {
     "data": {
      "text/plain": [
       "array([[-5.3622725e-04,  2.3643136e-04,  5.1033497e-03, ...,\n",
       "        -7.0415605e-03,  9.0145587e-04,  6.3925339e-03],\n",
       "       [-8.6184675e-03,  3.6647876e-03,  5.1892065e-03, ...,\n",
       "        -2.3916268e-03, -9.5095392e-03,  4.5061433e-03],\n",
       "       [ 9.4858486e-05,  3.0785999e-03, -6.8181208e-03, ...,\n",
       "         5.1612844e-04,  8.2163736e-03, -7.0252148e-03],\n",
       "       ...,\n",
       "       [ 1.8002307e-03,  7.0460914e-03,  2.9446983e-03, ...,\n",
       "        -1.8595541e-03,  3.6117458e-03, -7.0364270e-03],\n",
       "       [ 9.7362893e-03, -9.7806286e-03, -6.5031447e-03, ...,\n",
       "        -2.7028006e-03,  3.8288161e-03,  3.3424803e-04],\n",
       "       [ 5.6287632e-03,  5.4998551e-03,  1.8297510e-03, ...,\n",
       "         7.3150201e-03,  5.4687690e-03,  9.2530604e-03]], dtype=float32)"
      ]
     },
     "execution_count": 17,
     "metadata": {},
     "output_type": "execute_result"
    }
   ],
   "source": [
    "vectors"
   ]
  },
  {
   "cell_type": "markdown",
   "metadata": {},
   "source": [
    "#### <font color=\"green\"> Applying PCA to reduce dimensionality </font>"
   ]
  },
  {
   "cell_type": "code",
   "execution_count": 18,
   "metadata": {},
   "outputs": [],
   "source": [
    "pca = PCA(n_components=2)\n",
    "reduced_vectors = pca.fit_transform(vectors)"
   ]
  },
  {
   "cell_type": "markdown",
   "metadata": {},
   "source": [
    "#### <font color=\"green\"> Plot the 2D Representation of Word Embeddings </font>"
   ]
  },
  {
   "cell_type": "code",
   "execution_count": 19,
   "metadata": {},
   "outputs": [
    {
     "data": {
      "image/png": "[encoded data removed]",
      "text/plain": [
       "<Figure size 1200x800 with 1 Axes>"
      ]
     },
     "metadata": {},
     "output_type": "display_data"
    }
   ],
   "source": [
    "# Create a scatter plot\n",
    "plt.figure(figsize=(12, 8))\n",
    "plt.scatter(reduced_vectors[:, 0], reduced_vectors[:, 1], edgecolors='k', c='lightblue')\n",
    "\n",
    "# Annotate a subset of words (for clarity, plot only the first 50 words)\n",
    "for i, word in enumerate(words[:50]):\n",
    "    plt.annotate(word, xy=(reduced_vectors[i, 0], reduced_vectors[i, 1]))\n",
    "\n",
    "# Set plot labels and title\n",
    "plt.title(\"2D Visualization of Word Embeddings (Indoor-Farming Dataset)\", fontsize=16)\n",
    "plt.xlabel(\"PCA Component 1\", fontsize=12)\n",
    "plt.ylabel(\"PCA Component 2\", fontsize=12)\n",
    "plt.grid(True)\n",
    "plt.show()"
   ]
  },
  {
   "cell_type": "markdown",
   "metadata": {},
   "source": [
    "#### <font color=\"green\"> Check Similarity Between Words </font>\n",
    "\n",
    "**Notes:** Test similarity between words using the trained model"
   ]
  },
  {
   "cell_type": "code",
   "execution_count": 20,
   "metadata": {},
   "outputs": [
    {
     "name": "stdout",
     "output_type": "stream",
     "text": [
      "Similarity between 'basil' and 'romaine': -0.1343\n"
     ]
    }
   ],
   "source": [
    "word1 = \"basil\"\n",
    "word2 = \"romaine\"\n",
    "similarity = model.wv.similarity(word1, word2)\n",
    "print(f\"Similarity between '{word1}' and '{word2}': {similarity:.4f}\")"
   ]
  },
  {
   "cell_type": "code",
   "execution_count": 21,
   "metadata": {},
   "outputs": [
    {
     "name": "stdout",
     "output_type": "stream",
     "text": [
      "Similarity between 'basil' and 'nutrient': 0.1607\n"
     ]
    }
   ],
   "source": [
    "word1 = \"basil\"\n",
    "word2 = \"nutrient\"\n",
    "similarity = model.wv.similarity(word1, word2)\n",
    "print(f\"Similarity between '{word1}' and '{word2}': {similarity:.4f}\")"
   ]
  },
  {
   "cell_type": "code",
   "execution_count": 22,
   "metadata": {},
   "outputs": [
    {
     "name": "stdout",
     "output_type": "stream",
     "text": [
      "Similarity between 'nutrient' and 'treatment': 0.1056\n"
     ]
    }
   ],
   "source": [
    "word1 = \"nutrient\"\n",
    "word2 = \"treatment\"\n",
    "similarity = model.wv.similarity(word1, word2)\n",
    "print(f\"Similarity between '{word1}' and '{word2}': {similarity:.4f}\")"
   ]
  },
  {
   "cell_type": "code",
   "execution_count": 23,
   "metadata": {},
   "outputs": [
    {
     "name": "stdout",
     "output_type": "stream",
     "text": [
      "Top 5 words similar to 'nutrient':\n",
      "nutrientgreen: 0.2467\n",
      "enstim: 0.1783\n",
      "carlo: 0.1620\n",
      "basil: 0.1607\n",
      "treatment: 0.1056\n"
     ]
    }
   ],
   "source": [
    "word_to_test = \"nutrient\"\n",
    "similar_words = model.wv.most_similar(word_to_test, topn=5)\n",
    "print(f\"Top 5 words similar to '{word_to_test}':\")\n",
    "for word, score in similar_words:\n",
    "    print(f\"{word}: {score:.4f}\")"
   ]
  },
  {
   "cell_type": "code",
   "execution_count": 24,
   "metadata": {},
   "outputs": [
    {
     "name": "stdout",
     "output_type": "stream",
     "text": [
      "Top 5 words similar to 'treatment':\n",
      "carlo: 0.3190\n",
      "wasabi: 0.1748\n",
      "nutrientgreen: 0.1193\n",
      "nufar: 0.1112\n",
      "romaine: 0.1089\n"
     ]
    }
   ],
   "source": [
    "word_to_test = \"treatment\"\n",
    "similar_words = model.wv.most_similar(word_to_test, topn=5)\n",
    "print(f\"Top 5 words similar to '{word_to_test}':\")\n",
    "for word, score in similar_words:\n",
    "    print(f\"{word}: {score:.4f}\")"
   ]
  },
  {
   "cell_type": "code",
   "execution_count": 25,
   "metadata": {},
   "outputs": [
    {
     "name": "stdout",
     "output_type": "stream",
     "text": [
      "Top 5 words similar to 'basil':\n",
      "nutrient: 0.1607\n",
      "monte: 0.1593\n",
      "green: 0.1373\n",
      "pac: 0.1230\n",
      "nutrientgreen: 0.0855\n"
     ]
    }
   ],
   "source": [
    "word_to_test = \"basil\"\n",
    "similar_words = model.wv.most_similar(word_to_test, topn=5)\n",
    "print(f\"Top 5 words similar to '{word_to_test}':\")\n",
    "for word, score in similar_words:\n",
    "    print(f\"{word}: {score:.4f}\")"
   ]
  },
  {
   "cell_type": "code",
   "execution_count": 26,
   "metadata": {},
   "outputs": [
    {
     "name": "stdout",
     "output_type": "stream",
     "text": [
      "Top 5 words similar to 'deficient':\n",
      "wasabi: 0.2188\n",
      "mrsburnlemon: 0.2162\n",
      "arugula: 0.0931\n",
      "treatment: 0.0929\n",
      "nufar: 0.0796\n"
     ]
    }
   ],
   "source": [
    "word_to_test = \"deficient\"\n",
    "similar_words = model.wv.most_similar(word_to_test, topn=5)\n",
    "print(f\"Top 5 words similar to '{word_to_test}':\")\n",
    "for word, score in similar_words:\n",
    "    print(f\"{word}: {score:.4f}\")"
   ]
  },
  {
   "cell_type": "code",
   "execution_count": 27,
   "metadata": {},
   "outputs": [
    {
     "name": "stdout",
     "output_type": "stream",
     "text": [
      "Top 5 words similar to 'green':\n",
      "butter: 0.2529\n",
      "monte: 0.1425\n",
      "basil: 0.1373\n",
      "nutrientgreen: 0.1166\n",
      "zinc: 0.0441\n"
     ]
    }
   ],
   "source": [
    "word_to_test = \"green\"\n",
    "similar_words = model.wv.most_similar(word_to_test, topn=5)\n",
    "print(f\"Top 5 words similar to '{word_to_test}':\")\n",
    "for word, score in similar_words:\n",
    "    print(f\"{word}: {score:.4f}\")"
   ]
  },
  {
   "cell_type": "code",
   "execution_count": 28,
   "metadata": {},
   "outputs": [
    {
     "name": "stdout",
     "output_type": "stream",
     "text": [
      "Top 5 words similar to 'butter':\n",
      "green: 0.2529\n",
      "iron: 0.1702\n",
      "arugula: 0.1502\n",
      "zinc: 0.1389\n",
      "wasabi: 0.1085\n"
     ]
    }
   ],
   "source": [
    "word_to_test = \"butter\"\n",
    "similar_words = model.wv.most_similar(word_to_test, topn=5)\n",
    "print(f\"Top 5 words similar to '{word_to_test}':\")\n",
    "for word, score in similar_words:\n",
    "    print(f\"{word}: {score:.4f}\")"
   ]
  },
  {
   "cell_type": "code",
   "execution_count": null,
   "metadata": {},
   "outputs": [],
   "source": []
  }
 ],
 "metadata": {
  "kernelspec": {
   "display_name": "Python 3",
   "language": "python",
   "name": "python3"
  },
  "language_info": {
   "codemirror_mode": {
    "name": "ipython",
    "version": 3
   },
   "file_extension": ".py",
   "mimetype": "text/x-python",
   "name": "python",
   "nbconvert_exporter": "python",
   "pygments_lexer": "ipython3",
   "version": "3.10.15"
  }
 },
 "nbformat": 4,
 "nbformat_minor": 2
}
